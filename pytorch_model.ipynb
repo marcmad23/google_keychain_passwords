{
 "cells": [
  {
   "cell_type": "code",
   "execution_count": 1,
   "id": "2f1ed53d-c35b-45ff-887c-4148eb473a68",
   "metadata": {
    "tags": []
   },
   "outputs": [],
   "source": [
    "import torch\n",
    "import torch.nn as nn\n",
    "import torch.optim as optim\n",
    "from torch.utils.data import Dataset, DataLoader\n",
    "from sklearn.model_selection import train_test_split\n",
    "import random\n",
    "import string\n",
    "import pandas as pd"
   ]
  },
  {
   "cell_type": "markdown",
   "id": "82f91961-d7e4-42fe-ae84-5df0214d4078",
   "metadata": {},
   "source": [
    "### Importing the data that the model will be trained on"
   ]
  },
  {
   "cell_type": "code",
   "execution_count": 2,
   "id": "f8b7ecfe-d62d-4ac3-b670-ccbe32543a98",
   "metadata": {},
   "outputs": [],
   "source": [
    "df= pd.read_csv('password_analytics.csv')"
   ]
  },
  {
   "cell_type": "code",
   "execution_count": 3,
   "id": "379fdb86-bef2-472f-8b36-062c7a02bcb8",
   "metadata": {
    "tags": []
   },
   "outputs": [
    {
     "data": {
      "text/plain": [
       "[('PgRWQH*L8MV@2hx', 1.0),\n",
       " ('U@LcyNTGZp67scz', 0.991),\n",
       " ('!5EW4h$p!k$ysH8', 0.984),\n",
       " ('pFt2P*mxKK$ZYgn', 0.991),\n",
       " ('$7ez3DFRc6eJe.E', 0.97),\n",
       " ('#BG$Qw4GT$zqtj6', 0.984),\n",
       " ('FmbQd333P3d!G9#', 0.937),\n",
       " ('*E6!WMT3wM3ejq@', 0.984),\n",
       " ('Th7j*aGiAkqvSFq', 0.991)]"
      ]
     },
     "execution_count": 3,
     "metadata": {},
     "output_type": "execute_result"
    }
   ],
   "source": [
    "data = list(zip(df[\"password\"], df[\"pw_entropy\"]))\n",
    "data[400:410]"
   ]
  },
  {
   "cell_type": "markdown",
   "id": "78481cb4-767f-4b89-b43e-0156b0e0ff85",
   "metadata": {
    "tags": []
   },
   "source": [
    "**With the data being ingested by the model being defined, I must take every password and break it down into tokens so the model is able to comprehend what it is ingesting.**"
   ]
  },
  {
   "cell_type": "code",
   "execution_count": 4,
   "id": "6631a5cf-6d1e-451b-83c1-a1320572a328",
   "metadata": {},
   "outputs": [],
   "source": [
    "# Extract passwords and pw_entropy from the dataset\n",
    "passwords = [password for password, _ in data]\n",
    "pw_entropy = torch.tensor([entropy for _, entropy in data], dtype=torch.float)\n"
   ]
  },
  {
   "cell_type": "code",
   "execution_count": 5,
   "id": "5df06e36-a767-4119-b7df-7d40a3edc7f7",
   "metadata": {},
   "outputs": [],
   "source": [
    "# Tokenize the passwords by converting characters to unique indices\n",
    "all_characters = string.printable  # Looking for all printable characters\n",
    "vocab = {char: idx for idx, char in enumerate(all_characters)}"
   ]
  },
  {
   "cell_type": "code",
   "execution_count": 6,
   "id": "efadce3b-ada4-457e-9812-1c03650eef06",
   "metadata": {},
   "outputs": [],
   "source": [
    "# Convert passwords to numerical sequences\n",
    "numerical_data = [[vocab[char] for char in password] for password in passwords]\n",
    "\n",
    "# Pad sequences to a fixed length (adjust as needed)\n",
    "max_sequence_length = max(len(seq) for seq in numerical_data)\n",
    "padded_data = [seq + [0] * (max_sequence_length - len(seq)) for seq in numerical_data]"
   ]
  },
  {
   "cell_type": "code",
   "execution_count": 7,
   "id": "f94beebd-31f8-4861-8392-51dfc0e6c93f",
   "metadata": {},
   "outputs": [],
   "source": [
    "# Convert to PyTorch tensors\n",
    "X = torch.tensor(padded_data, dtype=torch.long)\n",
    "y = pw_entropy  # Use pw_entropy as the target variable"
   ]
  },
  {
   "cell_type": "code",
   "execution_count": 8,
   "id": "ae20da7a-08a9-4741-a57d-c939d9f6dc34",
   "metadata": {},
   "outputs": [],
   "source": [
    "# Define the dataset class\n",
    "class PasswordDataset(Dataset):\n",
    "    def __init__(self, X, y):\n",
    "        self.X = X\n",
    "        self.y = y\n",
    "\n",
    "    def __len__(self):\n",
    "        return len(self.X)\n",
    "\n",
    "    def __getitem__(self, idx):\n",
    "        return self.X[idx], self.y[idx]"
   ]
  },
  {
   "cell_type": "markdown",
   "id": "fed41991-94b3-40ad-80da-5e4267f26cb8",
   "metadata": {},
   "source": [
    "**Setting up the test and train datasets for the Pytorch model which will be used to generate passwords**"
   ]
  },
  {
   "cell_type": "code",
   "execution_count": 9,
   "id": "11cf9886-e1c5-4a2b-bb24-82e9374c7f8c",
   "metadata": {},
   "outputs": [],
   "source": [
    "# Split the dataset into train and test sets\n",
    "X_train, X_test, y_train, y_test = train_test_split(X, y, test_size=0.2, random_state=42)"
   ]
  },
  {
   "cell_type": "code",
   "execution_count": 10,
   "id": "bb348532-859b-4386-99c9-d0fd4cd6070e",
   "metadata": {},
   "outputs": [],
   "source": [
    "# Create DataLoader instances for training and testing\n",
    "train_dataset = PasswordDataset(X_train, y_train)\n",
    "test_dataset = PasswordDataset(X_test, y_test)\n",
    "train_loader = DataLoader(train_dataset, batch_size=2, shuffle=True)\n",
    "test_loader = DataLoader(test_dataset, batch_size=2, shuffle=False)"
   ]
  },
  {
   "cell_type": "code",
   "execution_count": 11,
   "id": "12ba1506-bfac-4f36-be4a-f4d2d3e08e49",
   "metadata": {},
   "outputs": [],
   "source": [
    "# Define the GRU model\n",
    "class PasswordGenerator(nn.Module):\n",
    "    def __init__(self, vocab_size, embedding_dim, hidden_dim):\n",
    "        super(PasswordGenerator, self).__init__()\n",
    "        self.embedding = nn.Embedding(vocab_size, embedding_dim)\n",
    "        self.gru = nn.GRU(embedding_dim, hidden_dim, batch_first=True)\n",
    "        self.fc = nn.Linear(hidden_dim, 1)\n",
    "\n",
    "    def forward(self, x):\n",
    "        embedded = self.embedding(x)\n",
    "        output, _ = self.gru(embedded)\n",
    "        output = self.fc(output[:, -1, :])\n",
    "        return output"
   ]
  },
  {
   "cell_type": "code",
   "execution_count": 12,
   "id": "b08a0e47-8483-4d03-b1d7-f55d65e39d34",
   "metadata": {},
   "outputs": [],
   "source": [
    "# Initialize the model\n",
    "embedding_dim = 10  # Adjust as needed\n",
    "hidden_dim = 20  # Adjust as needed\n",
    "vocab_size = len(all_characters)\n",
    "model = PasswordGenerator(vocab_size, embedding_dim, hidden_dim)\n",
    "\n",
    "# Define loss function and optimizer\n",
    "criterion = nn.MSELoss()  # Use Mean Squared Error loss for regression\n",
    "optimizer = optim.Adam(model.parameters(), lr=0.001)"
   ]
  },
  {
   "cell_type": "code",
   "execution_count": 13,
   "id": "39217fea-fa4f-4f71-b0e8-78978d5f0916",
   "metadata": {},
   "outputs": [
    {
     "name": "stderr",
     "output_type": "stream",
     "text": [
      "/Users/marcusmadison/opt/anaconda3/lib/python3.9/site-packages/torch/nn/modules/loss.py:535: UserWarning: Using a target size (torch.Size([1])) that is different to the input size (torch.Size([])). This will likely lead to incorrect results due to broadcasting. Please ensure they have the same size.\n",
      "  return F.mse_loss(input, target, reduction=self.reduction)\n"
     ]
    },
    {
     "name": "stdout",
     "output_type": "stream",
     "text": [
      "Epoch [1/10], Test MSE Loss: 0.0117\n",
      "Epoch [2/10], Test MSE Loss: 0.0032\n",
      "Epoch [3/10], Test MSE Loss: 0.0015\n",
      "Epoch [4/10], Test MSE Loss: 0.0011\n",
      "Epoch [5/10], Test MSE Loss: 0.0009\n",
      "Epoch [6/10], Test MSE Loss: 0.0010\n",
      "Epoch [7/10], Test MSE Loss: 0.0007\n",
      "Epoch [8/10], Test MSE Loss: 0.0007\n",
      "Epoch [9/10], Test MSE Loss: 0.0005\n",
      "Epoch [10/10], Test MSE Loss: 0.0005\n"
     ]
    }
   ],
   "source": [
    "# Training loop\n",
    "num_epochs = 10\n",
    "for epoch in range(num_epochs):\n",
    "    model.train()\n",
    "    for inputs, labels in train_loader:\n",
    "        optimizer.zero_grad()\n",
    "        outputs = model(inputs)\n",
    "        loss = criterion(outputs.squeeze(), labels)\n",
    "        loss.backward()\n",
    "        optimizer.step()\n",
    "\n",
    "    # Evaluation on the test set\n",
    "    model.eval()\n",
    "    with torch.no_grad():\n",
    "        mse_loss = nn.MSELoss()\n",
    "        test_loss = 0.0\n",
    "        for inputs, labels in test_loader:\n",
    "            outputs = model(inputs)\n",
    "            test_loss += mse_loss(outputs.squeeze(), labels).item()\n",
    "\n",
    "        average_test_loss = test_loss / len(test_loader)\n",
    "        print(f\"Epoch [{epoch+1}/{num_epochs}], Test MSE Loss: {average_test_loss:.4f}\")"
   ]
  },
  {
   "cell_type": "markdown",
   "id": "31edec77-0c99-4c8a-9a98-d2220aeed7d5",
   "metadata": {},
   "source": [
    "**Testing over Epochs, we like seeing the Mean Squared Error (MSE) decrease as there are more tests**"
   ]
  },
  {
   "cell_type": "code",
   "execution_count": 14,
   "id": "3aeca4ed-ea70-4543-be57-180dc1195563",
   "metadata": {},
   "outputs": [],
   "source": [
    "# Password generation function\n",
    "def generate_password(model, vocab, max_length=15):\n",
    "    model.eval()\n",
    "    with torch.no_grad():\n",
    "        generated_password = []\n",
    "        input_char = random.choice(list(vocab.keys()))\n",
    "        generated_password.append(input_char)\n",
    "\n",
    "        for _ in range(max_length - 1):\n",
    "            input_tensor = torch.tensor([[vocab[input_char]]], dtype=torch.long)\n",
    "            output = model(input_tensor)\n",
    "            predicted_entropy = output.squeeze().item()  # Assuming model predicts entropy\n",
    "            threshold = 0.5  # Adjust as needed\n",
    "            random_value = random.random()\n",
    "\n",
    "            if random_value < threshold:\n",
    "                # Add an uppercase letter\n",
    "                next_character = random.choice(string.ascii_uppercase)\n",
    "            elif random_value < 2 * threshold:\n",
    "                # Add a lowercase letter\n",
    "                next_character = random.choice(string.ascii_lowercase)\n",
    "            else:\n",
    "                # Add a digit\n",
    "                next_character = random.choice(string.digits)\n",
    "\n",
    "            generated_password.append(next_character)\n",
    "\n",
    "        return \"\".join(generated_password)\n"
   ]
  },
  {
   "cell_type": "markdown",
   "id": "d77ffae2-9ef5-47d4-b384-8c65611503d7",
   "metadata": {},
   "source": [
    "### Password Generation"
   ]
  },
  {
   "cell_type": "code",
   "execution_count": 16,
   "id": "38ef1a0e-0fae-42b8-ad6f-d2b169baa2ca",
   "metadata": {},
   "outputs": [
    {
     "name": "stdout",
     "output_type": "stream",
     "text": [
      "Generated Password: +DWXSaFWohorbcW\n",
      "Generated Password: 4PALJOHduuvlnFD\n",
      "Generated Password: GSleGLVAeQkquVe\n",
      "Generated Password: ANokgLCbAXOQRrJ\n",
      "Generated Password: LpXLYrdBKWGgPCh\n"
     ]
    }
   ],
   "source": [
    "for _ in range(5):\n",
    "    generated_password = generate_password(model, vocab)\n",
    "    print(f\"Generated Password: {generated_password}\")"
   ]
  }
 ],
 "metadata": {
  "kernelspec": {
   "display_name": "Python 3 (ipykernel)",
   "language": "python",
   "name": "python3"
  },
  "language_info": {
   "codemirror_mode": {
    "name": "ipython",
    "version": 3
   },
   "file_extension": ".py",
   "mimetype": "text/x-python",
   "name": "python",
   "nbconvert_exporter": "python",
   "pygments_lexer": "ipython3",
   "version": "3.9.12"
  }
 },
 "nbformat": 4,
 "nbformat_minor": 5
}
