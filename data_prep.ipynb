{
 "cells": [
  {
   "cell_type": "code",
   "execution_count": 1,
   "id": "33c84226-ca63-4643-96c0-ac7a55fce582",
   "metadata": {},
   "outputs": [],
   "source": [
    "import pandas as pd\n",
    "import numpy as np\n",
    "import matplotlib.pyplot as plt\n",
    "import string\n",
    "import math"
   ]
  },
  {
   "cell_type": "markdown",
   "id": "d209ff2c-f9c9-48bd-bbff-5c25d841eae9",
   "metadata": {},
   "source": [
    "## Cleaning and Preparing password dataset"
   ]
  },
  {
   "cell_type": "markdown",
   "id": "c37f46fb-c827-45f7-8872-c46b64c9d554",
   "metadata": {},
   "source": [
    "**Using Shanon Entropy, \" The concept of entropy was used by Shannon in information theory for the data communication of computer sciences and is known as Shannon entropy\" will include Link below for article to cite source. :)**\n",
    "\n",
    "[Article](https://www.sciencedirect.com/topics/engineering/shannon-entropy#:~:text=The%20concept%20of%20entropy%20was,is%20known%20as%20Shannon%20entropy.)"
   ]
  },
  {
   "cell_type": "markdown",
   "id": "5f78f006-acd4-4fb9-af80-34226ce125d3",
   "metadata": {
    "tags": []
   },
   "source": [
    "### Importing CSV of Google Keychain Passwords"
   ]
  },
  {
   "cell_type": "code",
   "execution_count": 2,
   "id": "e9da3606-53a6-43d0-afeb-78ec7a90a29b",
   "metadata": {},
   "outputs": [
    {
     "data": {
      "text/html": [
       "<div>\n",
       "<style scoped>\n",
       "    .dataframe tbody tr th:only-of-type {\n",
       "        vertical-align: middle;\n",
       "    }\n",
       "\n",
       "    .dataframe tbody tr th {\n",
       "        vertical-align: top;\n",
       "    }\n",
       "\n",
       "    .dataframe thead th {\n",
       "        text-align: right;\n",
       "    }\n",
       "</style>\n",
       "<table border=\"1\" class=\"dataframe\">\n",
       "  <thead>\n",
       "    <tr style=\"text-align: right;\">\n",
       "      <th></th>\n",
       "      <th>password</th>\n",
       "    </tr>\n",
       "  </thead>\n",
       "  <tbody>\n",
       "    <tr>\n",
       "      <th>0</th>\n",
       "      <td>RXujZkrxUgKhWW2</td>\n",
       "    </tr>\n",
       "    <tr>\n",
       "      <th>1</th>\n",
       "      <td>2eXrHHw9S7iU2EN</td>\n",
       "    </tr>\n",
       "    <tr>\n",
       "      <th>2</th>\n",
       "      <td>M7nc3G2iwA7gf9M</td>\n",
       "    </tr>\n",
       "    <tr>\n",
       "      <th>3</th>\n",
       "      <td>vGA6X7j9ixFj2mH</td>\n",
       "    </tr>\n",
       "    <tr>\n",
       "      <th>4</th>\n",
       "      <td>ucX3vskRPzBEKZv</td>\n",
       "    </tr>\n",
       "    <tr>\n",
       "      <th>...</th>\n",
       "      <td>...</td>\n",
       "    </tr>\n",
       "    <tr>\n",
       "      <th>404</th>\n",
       "      <td>$7ez3DFRc6eJe.E</td>\n",
       "    </tr>\n",
       "    <tr>\n",
       "      <th>405</th>\n",
       "      <td>#BG$Qw4GT$zqtj6</td>\n",
       "    </tr>\n",
       "    <tr>\n",
       "      <th>406</th>\n",
       "      <td>FmbQd333P3d!G9#</td>\n",
       "    </tr>\n",
       "    <tr>\n",
       "      <th>407</th>\n",
       "      <td>*E6!WMT3wM3ejq@</td>\n",
       "    </tr>\n",
       "    <tr>\n",
       "      <th>408</th>\n",
       "      <td>Th7j*aGiAkqvSFq</td>\n",
       "    </tr>\n",
       "  </tbody>\n",
       "</table>\n",
       "<p>409 rows × 1 columns</p>\n",
       "</div>"
      ],
      "text/plain": [
       "            password\n",
       "0    RXujZkrxUgKhWW2\n",
       "1    2eXrHHw9S7iU2EN\n",
       "2    M7nc3G2iwA7gf9M\n",
       "3    vGA6X7j9ixFj2mH\n",
       "4    ucX3vskRPzBEKZv\n",
       "..               ...\n",
       "404  $7ez3DFRc6eJe.E\n",
       "405  #BG$Qw4GT$zqtj6\n",
       "406  FmbQd333P3d!G9#\n",
       "407  *E6!WMT3wM3ejq@\n",
       "408  Th7j*aGiAkqvSFq\n",
       "\n",
       "[409 rows x 1 columns]"
      ]
     },
     "execution_count": 2,
     "metadata": {},
     "output_type": "execute_result"
    }
   ],
   "source": [
    "\n",
    "df = pd.read_csv('passwords.csv', encoding='ISO-8859-1', dtype={'password': str})\n",
    "df"
   ]
  },
  {
   "cell_type": "code",
   "execution_count": 4,
   "id": "dc42c0b9-b442-404c-bfc3-4bbb3ca42837",
   "metadata": {},
   "outputs": [
    {
     "name": "stdout",
     "output_type": "stream",
     "text": [
      "            password\n",
      "205  dx@hypMHE@Q$DY5\n",
      "208  #$UWJdrYVQ@idL6\n",
      "213  Awq$KFA2D4#bd@9\n",
      "214  7j@WPK$5*URdiZK\n",
      "215  vX@p$C#UV4$yUXD\n",
      "..               ...\n",
      "399  g3BiFa!$2VKUJDf\n",
      "402  !5EW4h$p!k$ysH8\n",
      "403  pFt2P*mxKK$ZYgn\n",
      "404  $7ez3DFRc6eJe.E\n",
      "405  #BG$Qw4GT$zqtj6\n",
      "\n",
      "[70 rows x 1 columns]\n"
     ]
    }
   ],
   "source": [
    "dollar_sign_records = df[df['password'].str.contains('\\$')]\n",
    "print(dollar_sign_records)"
   ]
  },
  {
   "cell_type": "markdown",
   "id": "f8b993d7-9a15-4280-868f-546e9cf0005d",
   "metadata": {},
   "source": [
    "#### Changing dtypes into string so I can evaluate number, letter, and capitalization frequency"
   ]
  },
  {
   "cell_type": "code",
   "execution_count": 5,
   "id": "70515d1a-57ab-4fd3-9316-6c10430faba7",
   "metadata": {},
   "outputs": [
    {
     "name": "stdout",
     "output_type": "stream",
     "text": [
      "<class 'pandas.core.frame.DataFrame'>\n",
      "RangeIndex: 409 entries, 0 to 408\n",
      "Data columns (total 1 columns):\n",
      " #   Column    Non-Null Count  Dtype \n",
      "---  ------    --------------  ----- \n",
      " 0   password  409 non-null    object\n",
      "dtypes: object(1)\n",
      "memory usage: 3.3+ KB\n"
     ]
    }
   ],
   "source": [
    "df.info()"
   ]
  },
  {
   "cell_type": "code",
   "execution_count": 6,
   "id": "68bd9649-77ad-44ff-aeef-55e5a3ef3b7d",
   "metadata": {},
   "outputs": [],
   "source": [
    "df = df.astype(str)"
   ]
  },
  {
   "cell_type": "code",
   "execution_count": 7,
   "id": "0d468859-7db1-4ff7-bd1b-f47343385214",
   "metadata": {},
   "outputs": [
    {
     "data": {
      "text/plain": [
       "str"
      ]
     },
     "execution_count": 7,
     "metadata": {},
     "output_type": "execute_result"
    }
   ],
   "source": [
    "type(df[\"password\"][1])"
   ]
  },
  {
   "cell_type": "markdown",
   "id": "a9b7cde1-ffd6-4248-8b9a-073dd88d3b09",
   "metadata": {},
   "source": [
    "#### Dtypes are string, now going to look at variation of passwords\n",
    "**Length**  \n",
    "**Capitalization**  \n",
    "**Numbers**  \n",
    "**Letters**  "
   ]
  },
  {
   "cell_type": "code",
   "execution_count": 8,
   "id": "1a1fafbc-ef00-4d37-b347-5810f54ffd22",
   "metadata": {},
   "outputs": [
    {
     "data": {
      "text/plain": [
       "0"
      ]
     },
     "execution_count": 8,
     "metadata": {},
     "output_type": "execute_result"
    }
   ],
   "source": [
    "df[\"password\"].str.isnumeric().sum()"
   ]
  },
  {
   "cell_type": "code",
   "execution_count": 9,
   "id": "6e063350-9501-42ff-ac8e-57726827377c",
   "metadata": {},
   "outputs": [
    {
     "data": {
      "text/plain": [
       "0"
      ]
     },
     "execution_count": 9,
     "metadata": {},
     "output_type": "execute_result"
    }
   ],
   "source": [
    "df[\"password\"].str.isupper().sum()"
   ]
  },
  {
   "cell_type": "code",
   "execution_count": 10,
   "id": "f2bf99e0-a5b3-483c-885f-792a6bf7fc71",
   "metadata": {},
   "outputs": [
    {
     "data": {
      "text/plain": [
       "0"
      ]
     },
     "execution_count": 10,
     "metadata": {},
     "output_type": "execute_result"
    }
   ],
   "source": [
    "df[\"password\"].str.islower().sum()"
   ]
  },
  {
   "cell_type": "code",
   "execution_count": 11,
   "id": "b5f3e652-5299-4c92-a3c0-b80e7569c7b2",
   "metadata": {},
   "outputs": [
    {
     "data": {
      "text/plain": [
       "0"
      ]
     },
     "execution_count": 11,
     "metadata": {},
     "output_type": "execute_result"
    }
   ],
   "source": [
    "df[\"password\"].str.isalpha().sum()"
   ]
  },
  {
   "cell_type": "code",
   "execution_count": 12,
   "id": "9600606a-ab02-4ca5-a1a7-9c4ec352f1c5",
   "metadata": {},
   "outputs": [
    {
     "data": {
      "text/plain": [
       "204"
      ]
     },
     "execution_count": 12,
     "metadata": {},
     "output_type": "execute_result"
    }
   ],
   "source": [
    "#All of the passwords in the dataset seem to be a combinationof Letters and Numbers\n",
    "df[\"password\"].str.isalnum().sum()"
   ]
  },
  {
   "cell_type": "code",
   "execution_count": 13,
   "id": "799ca036-eb70-4414-bf12-b2a191e1758f",
   "metadata": {},
   "outputs": [
    {
     "data": {
      "text/plain": [
       "0"
      ]
     },
     "execution_count": 13,
     "metadata": {},
     "output_type": "execute_result"
    }
   ],
   "source": [
    "#No passwords in title format\n",
    "df[\"password\"].str.istitle().sum()"
   ]
  },
  {
   "cell_type": "markdown",
   "id": "198a5b0f-df58-49ed-8c9f-485be1abc235",
   "metadata": {
    "tags": []
   },
   "source": [
    "#### Using a fucntion to check for special characters"
   ]
  },
  {
   "cell_type": "code",
   "execution_count": 14,
   "id": "f9576e6a-4475-4dad-949f-9136a9cdbed3",
   "metadata": {},
   "outputs": [],
   "source": [
    "def find_special_char(row):\n",
    "    for char in row:\n",
    "        if char in string.punctuation:\n",
    "            return 1\n",
    "        else:\n",
    "            pass"
   ]
  },
  {
   "cell_type": "code",
   "execution_count": 15,
   "id": "e8da4e0e-7adf-488c-a279-10453563f4ec",
   "metadata": {},
   "outputs": [
    {
     "data": {
      "text/plain": [
       "205.0"
      ]
     },
     "execution_count": 15,
     "metadata": {},
     "output_type": "execute_result"
    }
   ],
   "source": [
    "#Function returns 1 for any string that contains any character such as these \"!\"#$%&\\'()*+,-./:;<=>?@[\\\\]^_`{|}~\"\n",
    "df[\"password\"].apply(find_special_char).sum()"
   ]
  },
  {
   "cell_type": "code",
   "execution_count": 16,
   "id": "65faaddb-aaa1-464b-9e39-df823318f518",
   "metadata": {},
   "outputs": [
    {
     "data": {
      "text/plain": [
       "0      15\n",
       "1      15\n",
       "2      15\n",
       "3      15\n",
       "4      15\n",
       "       ..\n",
       "404    15\n",
       "405    15\n",
       "406    15\n",
       "407    15\n",
       "408    15\n",
       "Name: length, Length: 409, dtype: int64"
      ]
     },
     "execution_count": 16,
     "metadata": {},
     "output_type": "execute_result"
    }
   ],
   "source": [
    "df[\"length\"] = df[\"password\"].str.len()\n",
    "df[\"length\"]"
   ]
  },
  {
   "cell_type": "code",
   "execution_count": 17,
   "id": "9c77b81e-c0e6-43b9-a745-ffb3c9705492",
   "metadata": {},
   "outputs": [
    {
     "data": {
      "text/html": [
       "<div>\n",
       "<style scoped>\n",
       "    .dataframe tbody tr th:only-of-type {\n",
       "        vertical-align: middle;\n",
       "    }\n",
       "\n",
       "    .dataframe tbody tr th {\n",
       "        vertical-align: top;\n",
       "    }\n",
       "\n",
       "    .dataframe thead th {\n",
       "        text-align: right;\n",
       "    }\n",
       "</style>\n",
       "<table border=\"1\" class=\"dataframe\">\n",
       "  <thead>\n",
       "    <tr style=\"text-align: right;\">\n",
       "      <th></th>\n",
       "      <th>password</th>\n",
       "      <th>length</th>\n",
       "    </tr>\n",
       "  </thead>\n",
       "  <tbody>\n",
       "    <tr>\n",
       "      <th>0</th>\n",
       "      <td>RXujZkrxUgKhWW2</td>\n",
       "      <td>15</td>\n",
       "    </tr>\n",
       "    <tr>\n",
       "      <th>1</th>\n",
       "      <td>2eXrHHw9S7iU2EN</td>\n",
       "      <td>15</td>\n",
       "    </tr>\n",
       "    <tr>\n",
       "      <th>2</th>\n",
       "      <td>M7nc3G2iwA7gf9M</td>\n",
       "      <td>15</td>\n",
       "    </tr>\n",
       "    <tr>\n",
       "      <th>3</th>\n",
       "      <td>vGA6X7j9ixFj2mH</td>\n",
       "      <td>15</td>\n",
       "    </tr>\n",
       "    <tr>\n",
       "      <th>4</th>\n",
       "      <td>ucX3vskRPzBEKZv</td>\n",
       "      <td>15</td>\n",
       "    </tr>\n",
       "  </tbody>\n",
       "</table>\n",
       "</div>"
      ],
      "text/plain": [
       "          password  length\n",
       "0  RXujZkrxUgKhWW2      15\n",
       "1  2eXrHHw9S7iU2EN      15\n",
       "2  M7nc3G2iwA7gf9M      15\n",
       "3  vGA6X7j9ixFj2mH      15\n",
       "4  ucX3vskRPzBEKZv      15"
      ]
     },
     "execution_count": 17,
     "metadata": {},
     "output_type": "execute_result"
    }
   ],
   "source": [
    "#Added a length column to look at how long each password truly is to see if there is any variation at all,doesn't seem to be\n",
    "df.head()\n"
   ]
  },
  {
   "cell_type": "code",
   "execution_count": 18,
   "id": "a4039a59-8756-4fa7-9e0f-9184a665a462",
   "metadata": {},
   "outputs": [],
   "source": [
    "#Going to create some functions so that I could measure the frequency of digits, uppercase, and lower case letters\n",
    "def freq_lowercase(row):\n",
    "    return len([char for char in row if char.islower()])/len(row)\n",
    "def freq_uppercase(row):\n",
    "    return len([char for char in row if char.isupper()])/len(row)\n",
    "def freq_number(row):\n",
    "    return len([char for char in row if char.isdigit()])/len(row)"
   ]
  },
  {
   "cell_type": "code",
   "execution_count": 19,
   "id": "a3580468-57eb-408a-be76-2d6dd7e77015",
   "metadata": {},
   "outputs": [],
   "source": [
    "def freq_special_char(row):\n",
    "    total_chars = len(row)\n",
    "    special_chars = sum(not char.isalnum() for char in row)\n",
    "    return special_chars / total_chars if total_chars > 0 else 0.0"
   ]
  },
  {
   "cell_type": "code",
   "execution_count": 22,
   "id": "116b3c05-fe4a-4a49-9237-061b56b32fab",
   "metadata": {},
   "outputs": [],
   "source": [
    "df[\"lowercase_freq\"] = np.round(df[\"password\"].apply(freq_lowercase) , 3)\n",
    "\n",
    "df[\"uppercase_freq\"] = np.round(df[\"password\"].apply(freq_uppercase) , 3)\n",
    "\n",
    "df[\"number_freq\"] = np.round(df[\"password\"].apply(freq_number) , 3)\n",
    "\n",
    "df[\"special_char_freq\"] = np.round(df[\"password\"].apply(freq_special_char) , 3)"
   ]
  },
  {
   "cell_type": "markdown",
   "id": "3b93d3be-a22e-40a0-9fea-4f2821628618",
   "metadata": {},
   "source": [
    "#### Added columns representing frequencies  \n",
    "\n",
    "**Each of the frequencies add up to ~1**  \n",
    "**Gonna see if I can create a Flag column to represent what the password starts with**"
   ]
  },
  {
   "cell_type": "code",
   "execution_count": 23,
   "id": "94ccf497-20bb-4437-a2ab-0464f1919d35",
   "metadata": {},
   "outputs": [
    {
     "data": {
      "text/html": [
       "<div>\n",
       "<style scoped>\n",
       "    .dataframe tbody tr th:only-of-type {\n",
       "        vertical-align: middle;\n",
       "    }\n",
       "\n",
       "    .dataframe tbody tr th {\n",
       "        vertical-align: top;\n",
       "    }\n",
       "\n",
       "    .dataframe thead th {\n",
       "        text-align: right;\n",
       "    }\n",
       "</style>\n",
       "<table border=\"1\" class=\"dataframe\">\n",
       "  <thead>\n",
       "    <tr style=\"text-align: right;\">\n",
       "      <th></th>\n",
       "      <th>password</th>\n",
       "      <th>length</th>\n",
       "      <th>lowercase_freq</th>\n",
       "      <th>uppercase_freq</th>\n",
       "      <th>digit_freq</th>\n",
       "      <th>special_char_freq</th>\n",
       "      <th>number_freq</th>\n",
       "    </tr>\n",
       "  </thead>\n",
       "  <tbody>\n",
       "    <tr>\n",
       "      <th>0</th>\n",
       "      <td>RXujZkrxUgKhWW2</td>\n",
       "      <td>15</td>\n",
       "      <td>0.467</td>\n",
       "      <td>0.467</td>\n",
       "      <td>0.067</td>\n",
       "      <td>0.000</td>\n",
       "      <td>0.067</td>\n",
       "    </tr>\n",
       "    <tr>\n",
       "      <th>1</th>\n",
       "      <td>2eXrHHw9S7iU2EN</td>\n",
       "      <td>15</td>\n",
       "      <td>0.267</td>\n",
       "      <td>0.467</td>\n",
       "      <td>0.267</td>\n",
       "      <td>0.000</td>\n",
       "      <td>0.267</td>\n",
       "    </tr>\n",
       "    <tr>\n",
       "      <th>2</th>\n",
       "      <td>M7nc3G2iwA7gf9M</td>\n",
       "      <td>15</td>\n",
       "      <td>0.400</td>\n",
       "      <td>0.267</td>\n",
       "      <td>0.333</td>\n",
       "      <td>0.000</td>\n",
       "      <td>0.333</td>\n",
       "    </tr>\n",
       "    <tr>\n",
       "      <th>3</th>\n",
       "      <td>vGA6X7j9ixFj2mH</td>\n",
       "      <td>15</td>\n",
       "      <td>0.400</td>\n",
       "      <td>0.333</td>\n",
       "      <td>0.267</td>\n",
       "      <td>0.000</td>\n",
       "      <td>0.267</td>\n",
       "    </tr>\n",
       "    <tr>\n",
       "      <th>4</th>\n",
       "      <td>ucX3vskRPzBEKZv</td>\n",
       "      <td>15</td>\n",
       "      <td>0.467</td>\n",
       "      <td>0.467</td>\n",
       "      <td>0.067</td>\n",
       "      <td>0.000</td>\n",
       "      <td>0.067</td>\n",
       "    </tr>\n",
       "    <tr>\n",
       "      <th>...</th>\n",
       "      <td>...</td>\n",
       "      <td>...</td>\n",
       "      <td>...</td>\n",
       "      <td>...</td>\n",
       "      <td>...</td>\n",
       "      <td>...</td>\n",
       "      <td>...</td>\n",
       "    </tr>\n",
       "    <tr>\n",
       "      <th>404</th>\n",
       "      <td>$7ez3DFRc6eJe.E</td>\n",
       "      <td>15</td>\n",
       "      <td>0.333</td>\n",
       "      <td>0.333</td>\n",
       "      <td>0.200</td>\n",
       "      <td>0.133</td>\n",
       "      <td>0.200</td>\n",
       "    </tr>\n",
       "    <tr>\n",
       "      <th>405</th>\n",
       "      <td>#BG$Qw4GT$zqtj6</td>\n",
       "      <td>15</td>\n",
       "      <td>0.333</td>\n",
       "      <td>0.333</td>\n",
       "      <td>0.133</td>\n",
       "      <td>0.200</td>\n",
       "      <td>0.133</td>\n",
       "    </tr>\n",
       "    <tr>\n",
       "      <th>406</th>\n",
       "      <td>FmbQd333P3d!G9#</td>\n",
       "      <td>15</td>\n",
       "      <td>0.267</td>\n",
       "      <td>0.267</td>\n",
       "      <td>0.333</td>\n",
       "      <td>0.133</td>\n",
       "      <td>0.333</td>\n",
       "    </tr>\n",
       "    <tr>\n",
       "      <th>407</th>\n",
       "      <td>*E6!WMT3wM3ejq@</td>\n",
       "      <td>15</td>\n",
       "      <td>0.267</td>\n",
       "      <td>0.333</td>\n",
       "      <td>0.200</td>\n",
       "      <td>0.200</td>\n",
       "      <td>0.200</td>\n",
       "    </tr>\n",
       "    <tr>\n",
       "      <th>408</th>\n",
       "      <td>Th7j*aGiAkqvSFq</td>\n",
       "      <td>15</td>\n",
       "      <td>0.533</td>\n",
       "      <td>0.333</td>\n",
       "      <td>0.067</td>\n",
       "      <td>0.067</td>\n",
       "      <td>0.067</td>\n",
       "    </tr>\n",
       "  </tbody>\n",
       "</table>\n",
       "<p>409 rows × 7 columns</p>\n",
       "</div>"
      ],
      "text/plain": [
       "            password  length  lowercase_freq  uppercase_freq  digit_freq  \\\n",
       "0    RXujZkrxUgKhWW2      15           0.467           0.467       0.067   \n",
       "1    2eXrHHw9S7iU2EN      15           0.267           0.467       0.267   \n",
       "2    M7nc3G2iwA7gf9M      15           0.400           0.267       0.333   \n",
       "3    vGA6X7j9ixFj2mH      15           0.400           0.333       0.267   \n",
       "4    ucX3vskRPzBEKZv      15           0.467           0.467       0.067   \n",
       "..               ...     ...             ...             ...         ...   \n",
       "404  $7ez3DFRc6eJe.E      15           0.333           0.333       0.200   \n",
       "405  #BG$Qw4GT$zqtj6      15           0.333           0.333       0.133   \n",
       "406  FmbQd333P3d!G9#      15           0.267           0.267       0.333   \n",
       "407  *E6!WMT3wM3ejq@      15           0.267           0.333       0.200   \n",
       "408  Th7j*aGiAkqvSFq      15           0.533           0.333       0.067   \n",
       "\n",
       "     special_char_freq  number_freq  \n",
       "0                0.000        0.067  \n",
       "1                0.000        0.267  \n",
       "2                0.000        0.333  \n",
       "3                0.000        0.267  \n",
       "4                0.000        0.067  \n",
       "..                 ...          ...  \n",
       "404              0.133        0.200  \n",
       "405              0.200        0.133  \n",
       "406              0.133        0.333  \n",
       "407              0.200        0.200  \n",
       "408              0.067        0.067  \n",
       "\n",
       "[409 rows x 7 columns]"
      ]
     },
     "execution_count": 23,
     "metadata": {},
     "output_type": "execute_result"
    }
   ],
   "source": [
    "df"
   ]
  },
  {
   "cell_type": "code",
   "execution_count": 24,
   "id": "6c63cc14-3045-4f50-aa9a-9c687642a08e",
   "metadata": {},
   "outputs": [],
   "source": [
    "df['start_char']= df['password'].str[0]"
   ]
  },
  {
   "cell_type": "code",
   "execution_count": 25,
   "id": "765c72e6-fc6c-4f81-9359-eaea95eaeda9",
   "metadata": {},
   "outputs": [
    {
     "data": {
      "text/html": [
       "<div>\n",
       "<style scoped>\n",
       "    .dataframe tbody tr th:only-of-type {\n",
       "        vertical-align: middle;\n",
       "    }\n",
       "\n",
       "    .dataframe tbody tr th {\n",
       "        vertical-align: top;\n",
       "    }\n",
       "\n",
       "    .dataframe thead th {\n",
       "        text-align: right;\n",
       "    }\n",
       "</style>\n",
       "<table border=\"1\" class=\"dataframe\">\n",
       "  <thead>\n",
       "    <tr style=\"text-align: right;\">\n",
       "      <th></th>\n",
       "      <th>password</th>\n",
       "      <th>length</th>\n",
       "      <th>lowercase_freq</th>\n",
       "      <th>uppercase_freq</th>\n",
       "      <th>digit_freq</th>\n",
       "      <th>special_char_freq</th>\n",
       "      <th>number_freq</th>\n",
       "      <th>start_char</th>\n",
       "    </tr>\n",
       "  </thead>\n",
       "  <tbody>\n",
       "    <tr>\n",
       "      <th>0</th>\n",
       "      <td>RXujZkrxUgKhWW2</td>\n",
       "      <td>15</td>\n",
       "      <td>0.467</td>\n",
       "      <td>0.467</td>\n",
       "      <td>0.067</td>\n",
       "      <td>0.000</td>\n",
       "      <td>0.067</td>\n",
       "      <td>R</td>\n",
       "    </tr>\n",
       "    <tr>\n",
       "      <th>1</th>\n",
       "      <td>2eXrHHw9S7iU2EN</td>\n",
       "      <td>15</td>\n",
       "      <td>0.267</td>\n",
       "      <td>0.467</td>\n",
       "      <td>0.267</td>\n",
       "      <td>0.000</td>\n",
       "      <td>0.267</td>\n",
       "      <td>2</td>\n",
       "    </tr>\n",
       "    <tr>\n",
       "      <th>2</th>\n",
       "      <td>M7nc3G2iwA7gf9M</td>\n",
       "      <td>15</td>\n",
       "      <td>0.400</td>\n",
       "      <td>0.267</td>\n",
       "      <td>0.333</td>\n",
       "      <td>0.000</td>\n",
       "      <td>0.333</td>\n",
       "      <td>M</td>\n",
       "    </tr>\n",
       "    <tr>\n",
       "      <th>3</th>\n",
       "      <td>vGA6X7j9ixFj2mH</td>\n",
       "      <td>15</td>\n",
       "      <td>0.400</td>\n",
       "      <td>0.333</td>\n",
       "      <td>0.267</td>\n",
       "      <td>0.000</td>\n",
       "      <td>0.267</td>\n",
       "      <td>v</td>\n",
       "    </tr>\n",
       "    <tr>\n",
       "      <th>4</th>\n",
       "      <td>ucX3vskRPzBEKZv</td>\n",
       "      <td>15</td>\n",
       "      <td>0.467</td>\n",
       "      <td>0.467</td>\n",
       "      <td>0.067</td>\n",
       "      <td>0.000</td>\n",
       "      <td>0.067</td>\n",
       "      <td>u</td>\n",
       "    </tr>\n",
       "    <tr>\n",
       "      <th>...</th>\n",
       "      <td>...</td>\n",
       "      <td>...</td>\n",
       "      <td>...</td>\n",
       "      <td>...</td>\n",
       "      <td>...</td>\n",
       "      <td>...</td>\n",
       "      <td>...</td>\n",
       "      <td>...</td>\n",
       "    </tr>\n",
       "    <tr>\n",
       "      <th>404</th>\n",
       "      <td>$7ez3DFRc6eJe.E</td>\n",
       "      <td>15</td>\n",
       "      <td>0.333</td>\n",
       "      <td>0.333</td>\n",
       "      <td>0.200</td>\n",
       "      <td>0.133</td>\n",
       "      <td>0.200</td>\n",
       "      <td>$</td>\n",
       "    </tr>\n",
       "    <tr>\n",
       "      <th>405</th>\n",
       "      <td>#BG$Qw4GT$zqtj6</td>\n",
       "      <td>15</td>\n",
       "      <td>0.333</td>\n",
       "      <td>0.333</td>\n",
       "      <td>0.133</td>\n",
       "      <td>0.200</td>\n",
       "      <td>0.133</td>\n",
       "      <td>#</td>\n",
       "    </tr>\n",
       "    <tr>\n",
       "      <th>406</th>\n",
       "      <td>FmbQd333P3d!G9#</td>\n",
       "      <td>15</td>\n",
       "      <td>0.267</td>\n",
       "      <td>0.267</td>\n",
       "      <td>0.333</td>\n",
       "      <td>0.133</td>\n",
       "      <td>0.333</td>\n",
       "      <td>F</td>\n",
       "    </tr>\n",
       "    <tr>\n",
       "      <th>407</th>\n",
       "      <td>*E6!WMT3wM3ejq@</td>\n",
       "      <td>15</td>\n",
       "      <td>0.267</td>\n",
       "      <td>0.333</td>\n",
       "      <td>0.200</td>\n",
       "      <td>0.200</td>\n",
       "      <td>0.200</td>\n",
       "      <td>*</td>\n",
       "    </tr>\n",
       "    <tr>\n",
       "      <th>408</th>\n",
       "      <td>Th7j*aGiAkqvSFq</td>\n",
       "      <td>15</td>\n",
       "      <td>0.533</td>\n",
       "      <td>0.333</td>\n",
       "      <td>0.067</td>\n",
       "      <td>0.067</td>\n",
       "      <td>0.067</td>\n",
       "      <td>T</td>\n",
       "    </tr>\n",
       "  </tbody>\n",
       "</table>\n",
       "<p>409 rows × 8 columns</p>\n",
       "</div>"
      ],
      "text/plain": [
       "            password  length  lowercase_freq  uppercase_freq  digit_freq  \\\n",
       "0    RXujZkrxUgKhWW2      15           0.467           0.467       0.067   \n",
       "1    2eXrHHw9S7iU2EN      15           0.267           0.467       0.267   \n",
       "2    M7nc3G2iwA7gf9M      15           0.400           0.267       0.333   \n",
       "3    vGA6X7j9ixFj2mH      15           0.400           0.333       0.267   \n",
       "4    ucX3vskRPzBEKZv      15           0.467           0.467       0.067   \n",
       "..               ...     ...             ...             ...         ...   \n",
       "404  $7ez3DFRc6eJe.E      15           0.333           0.333       0.200   \n",
       "405  #BG$Qw4GT$zqtj6      15           0.333           0.333       0.133   \n",
       "406  FmbQd333P3d!G9#      15           0.267           0.267       0.333   \n",
       "407  *E6!WMT3wM3ejq@      15           0.267           0.333       0.200   \n",
       "408  Th7j*aGiAkqvSFq      15           0.533           0.333       0.067   \n",
       "\n",
       "     special_char_freq  number_freq start_char  \n",
       "0                0.000        0.067          R  \n",
       "1                0.000        0.267          2  \n",
       "2                0.000        0.333          M  \n",
       "3                0.000        0.267          v  \n",
       "4                0.000        0.067          u  \n",
       "..                 ...          ...        ...  \n",
       "404              0.133        0.200          $  \n",
       "405              0.200        0.133          #  \n",
       "406              0.133        0.333          F  \n",
       "407              0.200        0.200          *  \n",
       "408              0.067        0.067          T  \n",
       "\n",
       "[409 rows x 8 columns]"
      ]
     },
     "execution_count": 25,
     "metadata": {},
     "output_type": "execute_result"
    }
   ],
   "source": [
    "df"
   ]
  },
  {
   "cell_type": "markdown",
   "id": "74b95455-c94f-4f89-af09-90c417203894",
   "metadata": {},
   "source": [
    "#### I'd like to group passwords by their starting characters as well"
   ]
  },
  {
   "cell_type": "code",
   "execution_count": 26,
   "id": "1db154fe-dc08-4a5f-ae63-350578315cd1",
   "metadata": {},
   "outputs": [],
   "source": [
    "start_type = []\n",
    "\n",
    "for row in df['start_char']:\n",
    "    if 'A' <= row <= 'Z':\n",
    "        start_type.append('uppercase')\n",
    "    elif row in string.punctuation:\n",
    "         start_type.append('special')\n",
    "    elif 'a' <= row <= 'z':\n",
    "        start_type.append('lowercase')\n",
    "    else:\n",
    "        start_type.append('number')"
   ]
  },
  {
   "cell_type": "code",
   "execution_count": 27,
   "id": "8d0ef3b2-4239-4928-b165-8ab8e3baf51f",
   "metadata": {},
   "outputs": [],
   "source": [
    "df['start_type'] = start_type"
   ]
  },
  {
   "cell_type": "code",
   "execution_count": 28,
   "id": "9780bdc8-e6c4-463d-95a1-7b0be6a9e7a4",
   "metadata": {},
   "outputs": [
    {
     "data": {
      "text/html": [
       "<div>\n",
       "<style scoped>\n",
       "    .dataframe tbody tr th:only-of-type {\n",
       "        vertical-align: middle;\n",
       "    }\n",
       "\n",
       "    .dataframe tbody tr th {\n",
       "        vertical-align: top;\n",
       "    }\n",
       "\n",
       "    .dataframe thead th {\n",
       "        text-align: right;\n",
       "    }\n",
       "</style>\n",
       "<table border=\"1\" class=\"dataframe\">\n",
       "  <thead>\n",
       "    <tr style=\"text-align: right;\">\n",
       "      <th></th>\n",
       "      <th>password</th>\n",
       "      <th>length</th>\n",
       "      <th>lowercase_freq</th>\n",
       "      <th>uppercase_freq</th>\n",
       "      <th>digit_freq</th>\n",
       "      <th>special_char_freq</th>\n",
       "      <th>number_freq</th>\n",
       "      <th>start_char</th>\n",
       "      <th>start_type</th>\n",
       "    </tr>\n",
       "  </thead>\n",
       "  <tbody>\n",
       "    <tr>\n",
       "      <th>0</th>\n",
       "      <td>RXujZkrxUgKhWW2</td>\n",
       "      <td>15</td>\n",
       "      <td>0.467</td>\n",
       "      <td>0.467</td>\n",
       "      <td>0.067</td>\n",
       "      <td>0.000</td>\n",
       "      <td>0.067</td>\n",
       "      <td>R</td>\n",
       "      <td>uppercase</td>\n",
       "    </tr>\n",
       "    <tr>\n",
       "      <th>1</th>\n",
       "      <td>2eXrHHw9S7iU2EN</td>\n",
       "      <td>15</td>\n",
       "      <td>0.267</td>\n",
       "      <td>0.467</td>\n",
       "      <td>0.267</td>\n",
       "      <td>0.000</td>\n",
       "      <td>0.267</td>\n",
       "      <td>2</td>\n",
       "      <td>number</td>\n",
       "    </tr>\n",
       "    <tr>\n",
       "      <th>2</th>\n",
       "      <td>M7nc3G2iwA7gf9M</td>\n",
       "      <td>15</td>\n",
       "      <td>0.400</td>\n",
       "      <td>0.267</td>\n",
       "      <td>0.333</td>\n",
       "      <td>0.000</td>\n",
       "      <td>0.333</td>\n",
       "      <td>M</td>\n",
       "      <td>uppercase</td>\n",
       "    </tr>\n",
       "    <tr>\n",
       "      <th>3</th>\n",
       "      <td>vGA6X7j9ixFj2mH</td>\n",
       "      <td>15</td>\n",
       "      <td>0.400</td>\n",
       "      <td>0.333</td>\n",
       "      <td>0.267</td>\n",
       "      <td>0.000</td>\n",
       "      <td>0.267</td>\n",
       "      <td>v</td>\n",
       "      <td>lowercase</td>\n",
       "    </tr>\n",
       "    <tr>\n",
       "      <th>4</th>\n",
       "      <td>ucX3vskRPzBEKZv</td>\n",
       "      <td>15</td>\n",
       "      <td>0.467</td>\n",
       "      <td>0.467</td>\n",
       "      <td>0.067</td>\n",
       "      <td>0.000</td>\n",
       "      <td>0.067</td>\n",
       "      <td>u</td>\n",
       "      <td>lowercase</td>\n",
       "    </tr>\n",
       "    <tr>\n",
       "      <th>...</th>\n",
       "      <td>...</td>\n",
       "      <td>...</td>\n",
       "      <td>...</td>\n",
       "      <td>...</td>\n",
       "      <td>...</td>\n",
       "      <td>...</td>\n",
       "      <td>...</td>\n",
       "      <td>...</td>\n",
       "      <td>...</td>\n",
       "    </tr>\n",
       "    <tr>\n",
       "      <th>404</th>\n",
       "      <td>$7ez3DFRc6eJe.E</td>\n",
       "      <td>15</td>\n",
       "      <td>0.333</td>\n",
       "      <td>0.333</td>\n",
       "      <td>0.200</td>\n",
       "      <td>0.133</td>\n",
       "      <td>0.200</td>\n",
       "      <td>$</td>\n",
       "      <td>special</td>\n",
       "    </tr>\n",
       "    <tr>\n",
       "      <th>405</th>\n",
       "      <td>#BG$Qw4GT$zqtj6</td>\n",
       "      <td>15</td>\n",
       "      <td>0.333</td>\n",
       "      <td>0.333</td>\n",
       "      <td>0.133</td>\n",
       "      <td>0.200</td>\n",
       "      <td>0.133</td>\n",
       "      <td>#</td>\n",
       "      <td>special</td>\n",
       "    </tr>\n",
       "    <tr>\n",
       "      <th>406</th>\n",
       "      <td>FmbQd333P3d!G9#</td>\n",
       "      <td>15</td>\n",
       "      <td>0.267</td>\n",
       "      <td>0.267</td>\n",
       "      <td>0.333</td>\n",
       "      <td>0.133</td>\n",
       "      <td>0.333</td>\n",
       "      <td>F</td>\n",
       "      <td>uppercase</td>\n",
       "    </tr>\n",
       "    <tr>\n",
       "      <th>407</th>\n",
       "      <td>*E6!WMT3wM3ejq@</td>\n",
       "      <td>15</td>\n",
       "      <td>0.267</td>\n",
       "      <td>0.333</td>\n",
       "      <td>0.200</td>\n",
       "      <td>0.200</td>\n",
       "      <td>0.200</td>\n",
       "      <td>*</td>\n",
       "      <td>special</td>\n",
       "    </tr>\n",
       "    <tr>\n",
       "      <th>408</th>\n",
       "      <td>Th7j*aGiAkqvSFq</td>\n",
       "      <td>15</td>\n",
       "      <td>0.533</td>\n",
       "      <td>0.333</td>\n",
       "      <td>0.067</td>\n",
       "      <td>0.067</td>\n",
       "      <td>0.067</td>\n",
       "      <td>T</td>\n",
       "      <td>uppercase</td>\n",
       "    </tr>\n",
       "  </tbody>\n",
       "</table>\n",
       "<p>409 rows × 9 columns</p>\n",
       "</div>"
      ],
      "text/plain": [
       "            password  length  lowercase_freq  uppercase_freq  digit_freq  \\\n",
       "0    RXujZkrxUgKhWW2      15           0.467           0.467       0.067   \n",
       "1    2eXrHHw9S7iU2EN      15           0.267           0.467       0.267   \n",
       "2    M7nc3G2iwA7gf9M      15           0.400           0.267       0.333   \n",
       "3    vGA6X7j9ixFj2mH      15           0.400           0.333       0.267   \n",
       "4    ucX3vskRPzBEKZv      15           0.467           0.467       0.067   \n",
       "..               ...     ...             ...             ...         ...   \n",
       "404  $7ez3DFRc6eJe.E      15           0.333           0.333       0.200   \n",
       "405  #BG$Qw4GT$zqtj6      15           0.333           0.333       0.133   \n",
       "406  FmbQd333P3d!G9#      15           0.267           0.267       0.333   \n",
       "407  *E6!WMT3wM3ejq@      15           0.267           0.333       0.200   \n",
       "408  Th7j*aGiAkqvSFq      15           0.533           0.333       0.067   \n",
       "\n",
       "     special_char_freq  number_freq start_char start_type  \n",
       "0                0.000        0.067          R  uppercase  \n",
       "1                0.000        0.267          2     number  \n",
       "2                0.000        0.333          M  uppercase  \n",
       "3                0.000        0.267          v  lowercase  \n",
       "4                0.000        0.067          u  lowercase  \n",
       "..                 ...          ...        ...        ...  \n",
       "404              0.133        0.200          $    special  \n",
       "405              0.200        0.133          #    special  \n",
       "406              0.133        0.333          F  uppercase  \n",
       "407              0.200        0.200          *    special  \n",
       "408              0.067        0.067          T  uppercase  \n",
       "\n",
       "[409 rows x 9 columns]"
      ]
     },
     "execution_count": 28,
     "metadata": {},
     "output_type": "execute_result"
    }
   ],
   "source": [
    "df"
   ]
  },
  {
   "cell_type": "code",
   "execution_count": 29,
   "id": "a78299e0-4ac8-49f5-bb05-ef58bfceeb30",
   "metadata": {},
   "outputs": [
    {
     "data": {
      "text/plain": [
       "'!\"#$%&\\'()*+,-./:;<=>?@[\\\\]^_`{|}~'"
      ]
     },
     "execution_count": 29,
     "metadata": {},
     "output_type": "execute_result"
    }
   ],
   "source": [
    "string.punctuation"
   ]
  },
  {
   "cell_type": "markdown",
   "id": "a9218e1b-5f53-4b63-a90d-53f5c43e1bd4",
   "metadata": {},
   "source": [
    "#### Going to use Shanon Entropy as mentioned before"
   ]
  },
  {
   "cell_type": "code",
   "execution_count": 30,
   "id": "0a941038-7bba-49a9-bd64-af1984e6ce52",
   "metadata": {},
   "outputs": [],
   "source": [
    "\n",
    "def password_entropy(password):\n",
    "    if not password:\n",
    "        return 0\n",
    "\n",
    "    entropy = 0\n",
    "    for char in set(password):\n",
    "        p_char = password.count(char) / len(password)\n",
    "        entropy -= p_char * math.log2(p_char)\n",
    "\n",
    "    # Normalize to a range between 0 and 1\n",
    "    normalized_entropy = entropy / math.log2(len(set(password)))\n",
    "\n",
    "    return round(normalized_entropy, 3)"
   ]
  },
  {
   "cell_type": "code",
   "execution_count": 31,
   "id": "c692bb34-0edb-4074-89e0-d59904de8f69",
   "metadata": {},
   "outputs": [
    {
     "data": {
      "text/html": [
       "<div>\n",
       "<style scoped>\n",
       "    .dataframe tbody tr th:only-of-type {\n",
       "        vertical-align: middle;\n",
       "    }\n",
       "\n",
       "    .dataframe tbody tr th {\n",
       "        vertical-align: top;\n",
       "    }\n",
       "\n",
       "    .dataframe thead th {\n",
       "        text-align: right;\n",
       "    }\n",
       "</style>\n",
       "<table border=\"1\" class=\"dataframe\">\n",
       "  <thead>\n",
       "    <tr style=\"text-align: right;\">\n",
       "      <th></th>\n",
       "      <th>password</th>\n",
       "      <th>length</th>\n",
       "      <th>lowercase_freq</th>\n",
       "      <th>uppercase_freq</th>\n",
       "      <th>digit_freq</th>\n",
       "      <th>special_char_freq</th>\n",
       "      <th>number_freq</th>\n",
       "      <th>start_char</th>\n",
       "      <th>start_type</th>\n",
       "      <th>pw_entropy</th>\n",
       "    </tr>\n",
       "  </thead>\n",
       "  <tbody>\n",
       "    <tr>\n",
       "      <th>0</th>\n",
       "      <td>RXujZkrxUgKhWW2</td>\n",
       "      <td>15</td>\n",
       "      <td>0.467</td>\n",
       "      <td>0.467</td>\n",
       "      <td>0.067</td>\n",
       "      <td>0.000</td>\n",
       "      <td>0.067</td>\n",
       "      <td>R</td>\n",
       "      <td>uppercase</td>\n",
       "      <td>0.991</td>\n",
       "    </tr>\n",
       "    <tr>\n",
       "      <th>1</th>\n",
       "      <td>2eXrHHw9S7iU2EN</td>\n",
       "      <td>15</td>\n",
       "      <td>0.267</td>\n",
       "      <td>0.467</td>\n",
       "      <td>0.267</td>\n",
       "      <td>0.000</td>\n",
       "      <td>0.267</td>\n",
       "      <td>2</td>\n",
       "      <td>number</td>\n",
       "      <td>0.984</td>\n",
       "    </tr>\n",
       "    <tr>\n",
       "      <th>2</th>\n",
       "      <td>M7nc3G2iwA7gf9M</td>\n",
       "      <td>15</td>\n",
       "      <td>0.400</td>\n",
       "      <td>0.267</td>\n",
       "      <td>0.333</td>\n",
       "      <td>0.000</td>\n",
       "      <td>0.333</td>\n",
       "      <td>M</td>\n",
       "      <td>uppercase</td>\n",
       "      <td>0.984</td>\n",
       "    </tr>\n",
       "    <tr>\n",
       "      <th>3</th>\n",
       "      <td>vGA6X7j9ixFj2mH</td>\n",
       "      <td>15</td>\n",
       "      <td>0.400</td>\n",
       "      <td>0.333</td>\n",
       "      <td>0.267</td>\n",
       "      <td>0.000</td>\n",
       "      <td>0.267</td>\n",
       "      <td>v</td>\n",
       "      <td>lowercase</td>\n",
       "      <td>0.991</td>\n",
       "    </tr>\n",
       "    <tr>\n",
       "      <th>4</th>\n",
       "      <td>ucX3vskRPzBEKZv</td>\n",
       "      <td>15</td>\n",
       "      <td>0.467</td>\n",
       "      <td>0.467</td>\n",
       "      <td>0.067</td>\n",
       "      <td>0.000</td>\n",
       "      <td>0.067</td>\n",
       "      <td>u</td>\n",
       "      <td>lowercase</td>\n",
       "      <td>0.991</td>\n",
       "    </tr>\n",
       "    <tr>\n",
       "      <th>...</th>\n",
       "      <td>...</td>\n",
       "      <td>...</td>\n",
       "      <td>...</td>\n",
       "      <td>...</td>\n",
       "      <td>...</td>\n",
       "      <td>...</td>\n",
       "      <td>...</td>\n",
       "      <td>...</td>\n",
       "      <td>...</td>\n",
       "      <td>...</td>\n",
       "    </tr>\n",
       "    <tr>\n",
       "      <th>404</th>\n",
       "      <td>$7ez3DFRc6eJe.E</td>\n",
       "      <td>15</td>\n",
       "      <td>0.333</td>\n",
       "      <td>0.333</td>\n",
       "      <td>0.200</td>\n",
       "      <td>0.133</td>\n",
       "      <td>0.200</td>\n",
       "      <td>$</td>\n",
       "      <td>special</td>\n",
       "      <td>0.970</td>\n",
       "    </tr>\n",
       "    <tr>\n",
       "      <th>405</th>\n",
       "      <td>#BG$Qw4GT$zqtj6</td>\n",
       "      <td>15</td>\n",
       "      <td>0.333</td>\n",
       "      <td>0.333</td>\n",
       "      <td>0.133</td>\n",
       "      <td>0.200</td>\n",
       "      <td>0.133</td>\n",
       "      <td>#</td>\n",
       "      <td>special</td>\n",
       "      <td>0.984</td>\n",
       "    </tr>\n",
       "    <tr>\n",
       "      <th>406</th>\n",
       "      <td>FmbQd333P3d!G9#</td>\n",
       "      <td>15</td>\n",
       "      <td>0.267</td>\n",
       "      <td>0.267</td>\n",
       "      <td>0.333</td>\n",
       "      <td>0.133</td>\n",
       "      <td>0.333</td>\n",
       "      <td>F</td>\n",
       "      <td>uppercase</td>\n",
       "      <td>0.937</td>\n",
       "    </tr>\n",
       "    <tr>\n",
       "      <th>407</th>\n",
       "      <td>*E6!WMT3wM3ejq@</td>\n",
       "      <td>15</td>\n",
       "      <td>0.267</td>\n",
       "      <td>0.333</td>\n",
       "      <td>0.200</td>\n",
       "      <td>0.200</td>\n",
       "      <td>0.200</td>\n",
       "      <td>*</td>\n",
       "      <td>special</td>\n",
       "      <td>0.984</td>\n",
       "    </tr>\n",
       "    <tr>\n",
       "      <th>408</th>\n",
       "      <td>Th7j*aGiAkqvSFq</td>\n",
       "      <td>15</td>\n",
       "      <td>0.533</td>\n",
       "      <td>0.333</td>\n",
       "      <td>0.067</td>\n",
       "      <td>0.067</td>\n",
       "      <td>0.067</td>\n",
       "      <td>T</td>\n",
       "      <td>uppercase</td>\n",
       "      <td>0.991</td>\n",
       "    </tr>\n",
       "  </tbody>\n",
       "</table>\n",
       "<p>409 rows × 10 columns</p>\n",
       "</div>"
      ],
      "text/plain": [
       "            password  length  lowercase_freq  uppercase_freq  digit_freq  \\\n",
       "0    RXujZkrxUgKhWW2      15           0.467           0.467       0.067   \n",
       "1    2eXrHHw9S7iU2EN      15           0.267           0.467       0.267   \n",
       "2    M7nc3G2iwA7gf9M      15           0.400           0.267       0.333   \n",
       "3    vGA6X7j9ixFj2mH      15           0.400           0.333       0.267   \n",
       "4    ucX3vskRPzBEKZv      15           0.467           0.467       0.067   \n",
       "..               ...     ...             ...             ...         ...   \n",
       "404  $7ez3DFRc6eJe.E      15           0.333           0.333       0.200   \n",
       "405  #BG$Qw4GT$zqtj6      15           0.333           0.333       0.133   \n",
       "406  FmbQd333P3d!G9#      15           0.267           0.267       0.333   \n",
       "407  *E6!WMT3wM3ejq@      15           0.267           0.333       0.200   \n",
       "408  Th7j*aGiAkqvSFq      15           0.533           0.333       0.067   \n",
       "\n",
       "     special_char_freq  number_freq start_char start_type  pw_entropy  \n",
       "0                0.000        0.067          R  uppercase       0.991  \n",
       "1                0.000        0.267          2     number       0.984  \n",
       "2                0.000        0.333          M  uppercase       0.984  \n",
       "3                0.000        0.267          v  lowercase       0.991  \n",
       "4                0.000        0.067          u  lowercase       0.991  \n",
       "..                 ...          ...        ...        ...         ...  \n",
       "404              0.133        0.200          $    special       0.970  \n",
       "405              0.200        0.133          #    special       0.984  \n",
       "406              0.133        0.333          F  uppercase       0.937  \n",
       "407              0.200        0.200          *    special       0.984  \n",
       "408              0.067        0.067          T  uppercase       0.991  \n",
       "\n",
       "[409 rows x 10 columns]"
      ]
     },
     "execution_count": 31,
     "metadata": {},
     "output_type": "execute_result"
    }
   ],
   "source": [
    "df['pw_entropy'] = df['password'].apply(password_entropy)\n",
    "df"
   ]
  },
  {
   "cell_type": "code",
   "execution_count": 32,
   "id": "4976a057-1ae3-4c07-9b70-fedb4647e2b7",
   "metadata": {},
   "outputs": [],
   "source": [
    "df.to_csv('password_analytics.csv',index = False)"
   ]
  }
 ],
 "metadata": {
  "kernelspec": {
   "display_name": "Python 3 (ipykernel)",
   "language": "python",
   "name": "python3"
  },
  "language_info": {
   "codemirror_mode": {
    "name": "ipython",
    "version": 3
   },
   "file_extension": ".py",
   "mimetype": "text/x-python",
   "name": "python",
   "nbconvert_exporter": "python",
   "pygments_lexer": "ipython3",
   "version": "3.9.12"
  }
 },
 "nbformat": 4,
 "nbformat_minor": 5
}
